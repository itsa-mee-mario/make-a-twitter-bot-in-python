{
 "cells": [
  {
   "cell_type": "code",
   "execution_count": null,
   "metadata": {},
   "outputs": [],
   "source": [
    "consumer_key=''\n",
    "consumer_secret=''\n",
    "access_token=''\n",
    "access_token_secret=''"
   ]
  },
  {
   "cell_type": "code",
   "execution_count": null,
   "metadata": {},
   "outputs": [],
   "source": [
    "import tweepy\n"
   ]
  },
  {
   "cell_type": "code",
   "execution_count": null,
   "metadata": {},
   "outputs": [],
   "source": [
    "bearer_token = \"\"\n",
    "client = tweepy.Client(bearer_token, consumer_key=consumer_key, consumer_secret=consumer_secret, access_token=access_token, access_token_secret=access_token_secret)\n"
   ]
  },
  {
   "cell_type": "code",
   "execution_count": null,
   "metadata": {},
   "outputs": [],
   "source": [
    "client.create_tweet(text=\"im sentient!\")"
   ]
  },
  {
   "cell_type": "code",
   "execution_count": null,
   "metadata": {},
   "outputs": [],
   "source": [
    "\n",
    "user_id = "
   ]
  },
  {
   "cell_type": "code",
   "execution_count": null,
   "metadata": {},
   "outputs": [],
   "source": [
    "import random \n",
    "import yaml\n",
    "\n",
    "\n",
    "with open(\"more_ouch.yml\", \"r\") as stream:\n",
    "    try:\n",
    "        config = yaml.safe_load(stream)\n",
    "    except yaml.YAMLError as exc:\n",
    "        print(exc)\n",
    "\n",
    "def get_insult() -> str:\n",
    "\n",
    "    pref = 'Thou'\n",
    "\n",
    "    # algorithm simply makes a random choice from three different columns and concatenates them. \n",
    "\n",
    "    col1 = random.choice(config['column1'])\n",
    "\n",
    "    col2 = random.choice(config['column2'])\n",
    "\n",
    "    col3 = random.choice(config['column3'])\n",
    "\n",
    "    # print generated insult for the 'user' \n",
    "    return  pref + ' ' + col1 + ' ' + col2 + ' ' + col3 + '.' \n",
    "\n",
    "myowntweetids = []\n",
    "class handler(tweepy.StreamingClient):\n",
    "\n",
    "    def on_tweet(self, tweet):\n",
    "        print(tweet.data)\n",
    "        if tweet['id'] not in myowntweetids:\n",
    "            bottweet = client.create_tweet(text=get_insult(), in_reply_to_tweet_id=tweet.id, exclude_reply_user_ids=[user_id])\n",
    "            print(tweet.id)\n",
    "            print(myowntweetids)\n",
    "        # append tweet id to list\n",
    "            myowntweetids.append(int(bottweet.data['id']))\n",
    "        else: print(\"dont reply to self?\")\n",
    "\n",
    "    # def on_includes(includes):\n",
    "    #     print(includes)\n",
    "\n",
    "        \n",
    "\n",
    "\n",
    "printer = handler(bearer_token)\n",
    "\n",
    "printer.filter()\n",
    "\n",
    "\n",
    "\n"
   ]
  },
  {
   "cell_type": "code",
   "execution_count": null,
   "metadata": {},
   "outputs": [],
   "source": [
    "myowntweetids"
   ]
  },
  {
   "cell_type": "code",
   "execution_count": null,
   "metadata": {},
   "outputs": [],
   "source": []
  }
 ],
 "metadata": {
  "interpreter": {
   "hash": "d2152fd7f0bbc62aa1baff8c990435d1e2c7175d001561303988032604c11a48"
  },
  "kernelspec": {
   "display_name": "Python 3.10.4 64-bit",
   "language": "python",
   "name": "python3"
  },
  "language_info": {
   "codemirror_mode": {
    "name": "ipython",
    "version": 3
   },
   "file_extension": ".py",
   "mimetype": "text/x-python",
   "name": "python",
   "nbconvert_exporter": "python",
   "pygments_lexer": "ipython3",
   "version": "3.10.4"
  },
  "orig_nbformat": 4
 },
 "nbformat": 4,
 "nbformat_minor": 2
}
